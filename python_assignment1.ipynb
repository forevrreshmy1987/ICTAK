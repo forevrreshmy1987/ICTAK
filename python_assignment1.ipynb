{
  "nbformat": 4,
  "nbformat_minor": 0,
  "metadata": {
    "colab": {
      "provenance": [],
      "authorship_tag": "ABX9TyMu+jPBy+DBgyfWcAu+RcfG",
      "include_colab_link": true
    },
    "kernelspec": {
      "name": "python3",
      "display_name": "Python 3"
    },
    "language_info": {
      "name": "python"
    }
  },
  "cells": [
    {
      "cell_type": "markdown",
      "metadata": {
        "id": "view-in-github",
        "colab_type": "text"
      },
      "source": [
        "<a href=\"https://colab.research.google.com/github/forevrreshmy1987/ICTAK/blob/main/python_assignment1.ipynb\" target=\"_parent\"><img src=\"https://colab.research.google.com/assets/colab-badge.svg\" alt=\"Open In Colab\"/></a>"
      ]
    },
    {
      "cell_type": "code",
      "execution_count": null,
      "metadata": {
        "colab": {
          "base_uri": "https://localhost:8080/"
        },
        "id": "1zYLx6E9oLXZ",
        "outputId": "9cb02ab8-7f29-468f-b1ab-3091606e5179"
      },
      "outputs": [
        {
          "output_type": "stream",
          "name": "stdout",
          "text": [
            "enter the radius of the circle\n",
            "3.4\n",
            "area of the circle 36.2984\n"
          ]
        }
      ],
      "source": [
        "print (\"enter the radius of the circle\")\n",
        "\n",
        "r = float (input())\n",
        "area = 3.14*r*r\n",
        "print (\"area of the circle\",area)"
      ]
    },
    {
      "cell_type": "code",
      "source": [
        "print (\"Enter the name: \",end='')\n",
        "name = str(input())\n",
        "print (\"Enter the roll number:\",end='')\n",
        "rollno = int(input())\n",
        "print (\"Enter the mark:\",end='')\n",
        "mark = float(input())\n",
        "\n",
        "print (\"Name:\",name)\n",
        "print (\"Rollno:\",rollno)\n",
        "print (\"Mark:\",mark)"
      ],
      "metadata": {
        "colab": {
          "base_uri": "https://localhost:8080/"
        },
        "id": "91eWQA2RrfI5",
        "outputId": "f09bf4e3-21a7-4bfc-f8ae-6964e3776ab3"
      },
      "execution_count": null,
      "outputs": [
        {
          "output_type": "stream",
          "name": "stdout",
          "text": [
            "Enter the name: poornima\n",
            "Enter the roll number:33\n",
            "Enter the mark:34\n",
            "Name: poornima\n",
            "Rollno: 33\n",
            "Mark: 34.0\n"
          ]
        }
      ]
    },
    {
      "cell_type": "code",
      "source": [],
      "metadata": {
        "id": "2o8Dm5u3VXls"
      },
      "execution_count": null,
      "outputs": []
    },
    {
      "cell_type": "code",
      "source": [
        "#for receiving input from a user and split it among v1 to v4 int variables\n",
        "v1, v2, v3, v4 = [int(x) for x in input (\"enter 4 numbers: \").split(',')]\n",
        "print (\"largest number=\",max(v1,v2,v3,v4))\n",
        "\n"
      ],
      "metadata": {
        "colab": {
          "base_uri": "https://localhost:8080/"
        },
        "id": "q8kD_An6CksB",
        "outputId": "caa77686-cd0b-4ff9-b5fc-d30c7b3911dd"
      },
      "execution_count": null,
      "outputs": [
        {
          "output_type": "stream",
          "name": "stdout",
          "text": [
            "enter 4 numbers: 44,66,88,100\n",
            "largest number= 100\n"
          ]
        }
      ]
    },
    {
      "cell_type": "code",
      "source": [
        "startno= 1\n",
        "endno=10\n",
        "for i in range (startno,endno+1):\n",
        "    print (\"current number is:\",startno)\n",
        "    prevno= startno-1\n",
        "    print (\"previous number is:\",prevno)\n",
        "    sumno= startno+prevno\n",
        "    startno+=1\n",
        "    print (\"sum is:\",sumno)"
      ],
      "metadata": {
        "colab": {
          "base_uri": "https://localhost:8080/"
        },
        "id": "pR6IyNWPZ03C",
        "outputId": "7bc45870-86e5-4340-b95f-60bf168ba45f"
      },
      "execution_count": null,
      "outputs": [
        {
          "output_type": "stream",
          "name": "stdout",
          "text": [
            "current number is: 1\n",
            "previous number is: 0\n",
            "sum is: 1\n",
            "current number is: 2\n",
            "previous number is: 1\n",
            "sum is: 3\n",
            "current number is: 3\n",
            "previous number is: 2\n",
            "sum is: 5\n",
            "current number is: 4\n",
            "previous number is: 3\n",
            "sum is: 7\n",
            "current number is: 5\n",
            "previous number is: 4\n",
            "sum is: 9\n",
            "current number is: 6\n",
            "previous number is: 5\n",
            "sum is: 11\n",
            "current number is: 7\n",
            "previous number is: 6\n",
            "sum is: 13\n",
            "current number is: 8\n",
            "previous number is: 7\n",
            "sum is: 15\n",
            "current number is: 9\n",
            "previous number is: 8\n",
            "sum is: 17\n",
            "current number is: 10\n",
            "previous number is: 9\n",
            "sum is: 19\n"
          ]
        }
      ]
    },
    {
      "cell_type": "code",
      "source": [
        "import numpy as np\n",
        "x = np.arange(1,20)\n",
        "print (x[:])\n",
        "for i in range(len(x)):\n",
        "  if x[i] % 5 == 0:\n",
        "     print(x[i])\n",
        "  else:\n",
        "     print(\"not divisible by 5\",x[i])\n",
        "\n"
      ],
      "metadata": {
        "colab": {
          "base_uri": "https://localhost:8080/"
        },
        "id": "hqOdyE-mdS0W",
        "outputId": "2cbe97e9-03d2-440e-cd02-008c9f7d15ce"
      },
      "execution_count": null,
      "outputs": [
        {
          "output_type": "stream",
          "name": "stdout",
          "text": [
            "[ 1  2  3  4  5  6  7  8  9 10 11 12 13 14 15 16 17 18 19]\n",
            "not divisible by 5 1\n",
            "not divisible by 5 2\n",
            "not divisible by 5 3\n",
            "not divisible by 5 4\n",
            "5\n",
            "not divisible by 5 6\n",
            "not divisible by 5 7\n",
            "not divisible by 5 8\n",
            "not divisible by 5 9\n",
            "10\n",
            "not divisible by 5 11\n",
            "not divisible by 5 12\n",
            "not divisible by 5 13\n",
            "not divisible by 5 14\n",
            "15\n",
            "not divisible by 5 16\n",
            "not divisible by 5 17\n",
            "not divisible by 5 18\n",
            "not divisible by 5 19\n"
          ]
        }
      ]
    },
    {
      "cell_type": "code",
      "source": [
        "import numpy as np\n",
        "print(\"enter any number\")\n",
        "s = int(input())\n",
        "#s=\n",
        "flagp=0\n",
        "for i in  range(2,s,1):\n",
        "   print(i)\n",
        "   if s % i == 0 and flagp == 1:\n",
        "    break\n",
        "   else:\n",
        "    print(\"prime numer\",s)\n",
        "    flagp=1\n",
        "    break"
      ],
      "metadata": {
        "colab": {
          "base_uri": "https://localhost:8080/"
        },
        "id": "Beb8m-EGlBIj",
        "outputId": "eed34ad2-d946-402a-c3a2-47abe61edc92"
      },
      "execution_count": null,
      "outputs": [
        {
          "output_type": "stream",
          "name": "stdout",
          "text": [
            "enter any number\n",
            "17\n",
            "2\n",
            "prime numer 17\n"
          ]
        }
      ]
    },
    {
      "cell_type": "code",
      "source": [
        "lst = [2,3,7,11,13,15,17]\n",
        "print (lst)\n",
        "lst.sort(reverse=True)\n",
        "print (lst)\n",
        "#s="
      ],
      "metadata": {
        "colab": {
          "base_uri": "https://localhost:8080/"
        },
        "id": "9TUTFx-GrUAw",
        "outputId": "f84a7209-b4ec-4325-87d8-bc34f3009bbd"
      },
      "execution_count": null,
      "outputs": [
        {
          "output_type": "stream",
          "name": "stdout",
          "text": [
            "[2, 3, 7, 11, 13, 15, 17]\n",
            "[17, 15, 13, 11, 7, 3, 2]\n"
          ]
        }
      ]
    },
    {
      "cell_type": "code",
      "source": [
        "for i in range(1,6):\n",
        "  for j in range(1,i+1):\n",
        "    print('* ',end='')\n",
        "  print()"
      ],
      "metadata": {
        "colab": {
          "base_uri": "https://localhost:8080/"
        },
        "id": "tpCou8xJwsJ7",
        "outputId": "19cb1149-09e8-4ab6-8c10-981aa3661db5"
      },
      "execution_count": null,
      "outputs": [
        {
          "output_type": "stream",
          "name": "stdout",
          "text": [
            "* \n",
            "* * \n",
            "* * * \n",
            "* * * * \n",
            "* * * * * \n"
          ]
        }
      ]
    },
    {
      "cell_type": "code",
      "source": [
        "print(\"enter the numbers\")\n",
        "lst = [int(x) for x in input().split(',')]\n",
        "print(max(lst))\n"
      ],
      "metadata": {
        "colab": {
          "base_uri": "https://localhost:8080/"
        },
        "id": "d2ekly1kz4o8",
        "outputId": "e540d73d-d3b1-4930-914a-519cba450e29"
      },
      "execution_count": null,
      "outputs": [
        {
          "output_type": "stream",
          "name": "stdout",
          "text": [
            "enter the numbers\n",
            "10,20,30,40\n",
            "40\n"
          ]
        }
      ]
    },
    {
      "cell_type": "code",
      "source": [
        "max=1\n",
        "if max<=5:\n",
        " for i in range(1,6):\n",
        "  for j in range(1,i+1):\n",
        "    print('* ',end='')\n",
        "    max+=1\n",
        "    print(\"max\",max)\n",
        "    if max == 5:\n",
        "      break\n",
        "elif max==5:\n",
        "  print(\"inside second loop\")\n",
        "  x=max-1\n",
        "  for i in range(x,-1):\n",
        "        print(\"i\",i)\n",
        "        j=i+1\n",
        "        for j in range(j,i-1):\n",
        "          print(\"j\",j)\n",
        "          print('* ',end='')\n",
        "          break\n",
        "print()"
      ],
      "metadata": {
        "colab": {
          "base_uri": "https://localhost:8080/"
        },
        "id": "GKKzo3-k5-kk",
        "outputId": "6af0dc77-e563-4348-8241-772a643dcdec"
      },
      "execution_count": null,
      "outputs": [
        {
          "output_type": "stream",
          "name": "stdout",
          "text": [
            "* max 2\n",
            "* max 3\n",
            "* max 4\n",
            "* max 5\n",
            "* max 6\n",
            "* max 7\n",
            "* max 8\n",
            "* max 9\n",
            "* max 10\n",
            "* max 11\n",
            "* max 12\n",
            "* max 13\n",
            "* max 14\n",
            "\n"
          ]
        }
      ]
    },
    {
      "cell_type": "code",
      "source": [
        "n=5\n",
        "for i in range(n):\n",
        "  for j in range(i):\n",
        "    print('* ',end='')\n",
        "  print()\n",
        "for i in range(n, 0, -1):\n",
        "    for j in range(i):\n",
        "      print('* ',end='')\n",
        "    print()"
      ],
      "metadata": {
        "colab": {
          "base_uri": "https://localhost:8080/"
        },
        "id": "UXPt25VjEWrn",
        "outputId": "77783fb7-fb01-4a0b-95db-7a1fdbeee987"
      },
      "execution_count": null,
      "outputs": [
        {
          "output_type": "stream",
          "name": "stdout",
          "text": [
            "\n",
            "* \n",
            "* * \n",
            "* * * \n",
            "* * * * \n",
            "* * * * * \n",
            "* * * * \n",
            "* * * \n",
            "* * \n",
            "* \n"
          ]
        }
      ]
    }
  ]
}