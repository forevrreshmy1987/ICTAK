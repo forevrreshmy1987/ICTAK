{
  "nbformat": 4,
  "nbformat_minor": 0,
  "metadata": {
    "colab": {
      "provenance": [],
      "authorship_tag": "ABX9TyP5vIkilunQA6Vc+rK5B+ma",
      "include_colab_link": true
    },
    "kernelspec": {
      "name": "python3",
      "display_name": "Python 3"
    },
    "language_info": {
      "name": "python"
    }
  },
  "cells": [
    {
      "cell_type": "markdown",
      "metadata": {
        "id": "view-in-github",
        "colab_type": "text"
      },
      "source": [
        "<a href=\"https://colab.research.google.com/github/forevrreshmy1987/ICTAK/blob/main/python_excersice_2.ipynb\" target=\"_parent\"><img src=\"https://colab.research.google.com/assets/colab-badge.svg\" alt=\"Open In Colab\"/></a>"
      ]
    },
    {
      "cell_type": "code",
      "execution_count": null,
      "metadata": {
        "colab": {
          "base_uri": "https://localhost:8080/"
        },
        "id": "NAgC9GWI9F0Z",
        "outputId": "28aa9f6c-a4ba-4475-9769-61b9243a4ee8"
      },
      "outputs": [
        {
          "output_type": "stream",
          "name": "stdout",
          "text": [
            "Enter the string !!GeeksforGeeks \n",
            "Occurrence of all characters in GeeksforGeeks is :\n",
            " {'o': 1, 'k': 2, 's': 2, 'e': 4, 'r': 1, 'f': 1, ' ': 1, 'G': 2}\n"
          ]
        }
      ],
      "source": [
        "inp_str=input(\"Enter the string !!\")\n",
        "\n",
        "# using set() + count() to get count\n",
        "# of each element in string\n",
        "out = {x : inp_str.count(x) for x in set(inp_str )}\n",
        "\n",
        "# printing result\n",
        "print (\"Occurrence of all characters in the string is :\\n \"+ str(out))\n"
      ]
    },
    {
      "cell_type": "code",
      "source": [
        "num1 = float(input(\"Enter first number: \"))\n",
        "num2 = float(input(\"Enter second number: \"))\n",
        "num3 = float(input(\"Enter third number: \"))\n",
        "\n",
        "if (num1 >= num2) and (num1 >= num3):\n",
        "   largest = num1\n",
        "elif (num2 >= num1) and (num2 >= num3):\n",
        "   largest = num2\n",
        "else:\n",
        "   largest = num3\n",
        "\n",
        "print(\"The largest number is\", largest)"
      ],
      "metadata": {
        "colab": {
          "base_uri": "https://localhost:8080/"
        },
        "id": "VvQpkJ70_Pg-",
        "outputId": "a9f42044-9fa9-4b77-bdb8-8ddcdd4fcdad"
      },
      "execution_count": null,
      "outputs": [
        {
          "output_type": "stream",
          "name": "stdout",
          "text": [
            "Enter first number: 31\n",
            "Enter second number: 14.5\n",
            "Enter third number: 54\n",
            "The largest number is 54.0\n"
          ]
        }
      ]
    },
    {
      "cell_type": "code",
      "source": [
        "# Recursive function to find N^P.\n",
        "N = int(input(\"Enter first number: \"))\n",
        "P = int(input(\"Enter second number: \"))\n",
        "def power(N, P):\n",
        "\n",
        "    # If power is 0 then return 1\n",
        "    # if condition is true\n",
        "    # only then it will enter it,\n",
        "    # otherwise not\n",
        "    if P == 0:\n",
        "        return 1\n",
        "\n",
        "    # Recurrence relation\n",
        "    return (N*power(N, P-1))\n",
        "print(\"exponent Is\",power(N, P))"
      ],
      "metadata": {
        "colab": {
          "base_uri": "https://localhost:8080/"
        },
        "id": "KkrPd0ZJ_0rt",
        "outputId": "15fbe259-02a1-4109-8701-bed7c714e137"
      },
      "execution_count": null,
      "outputs": [
        {
          "output_type": "stream",
          "name": "stdout",
          "text": [
            "Enter first number: 3\n",
            "Enter second number: 3\n",
            "exponent Is 27\n"
          ]
        }
      ]
    },
    {
      "cell_type": "code",
      "source": [
        "n = int(input(\"Enter first number: \"))\n",
        "def sum_of_cubes(n):\n",
        "    # Decrement 'n' by 1 to exclude 'n' itself from the sum.\n",
        "    n -= 1\n",
        "    # Initialize a variable 'total' to keep track of the sum of cubes.\n",
        "    total = 0\n",
        "\n",
        "    # Use a 'while' loop to iterate through numbers from 'n-1' down to 1.\n",
        "    while n > 0:\n",
        "        # Calculate the cube of the current number 'n' and add it to 'total'.\n",
        "        total += n * n * n\n",
        "        # Decrement 'n' by 1 for the next iteration.\n",
        "        n -= 1\n",
        "\n",
        "    # Return the total sum of cubes.\n",
        "    return total\n",
        "\n",
        "# Call the 'sum_of_cubes' function with an argument '3' and print the result.\n",
        "print(\"Sum of cubes smaller than the specified number: \", sum_of_cubes(n))"
      ],
      "metadata": {
        "colab": {
          "base_uri": "https://localhost:8080/"
        },
        "id": "cnygYhfZBd27",
        "outputId": "661ec407-93b2-4810-eed3-198e8d5f6ac2"
      },
      "execution_count": null,
      "outputs": [
        {
          "output_type": "stream",
          "name": "stdout",
          "text": [
            "Enter first number: 7\n",
            "Sum of cubes smaller than the specified number:  441\n"
          ]
        }
      ]
    },
    {
      "cell_type": "code",
      "source": [
        "start=int(input(\"Enter the start number: \"))\n",
        "end=int(input(\"Enter the end number: \"))\n",
        "def fizz_buzz(start, end):\n",
        "    \"\"\"\n",
        "    Print 'Fizz', 'Buzz', or 'FizzBuzz' for numbers in the specified range based on divisibility rules.\n",
        "\n",
        "    Parameters:\n",
        "    start (int): The starting number of the range.\n",
        "    end (int): The ending number of the range.\n",
        "    \"\"\"\n",
        "    if start > end:\n",
        "        print(\"Start should be less than or equal to end.\")\n",
        "        return\n",
        "\n",
        "    for fizzbuzz in range(start, end + 1):\n",
        "        if fizzbuzz % 2 == 0 and fizzbuzz % 5 == 0:\n",
        "            print(\"FizzBuzz\")\n",
        "        elif fizzbuzz % 2 == 0:\n",
        "            print(\"Fizz\")\n",
        "        elif fizzbuzz % 5 == 0:\n",
        "            print(\"Buzz\")\n",
        "        else:\n",
        "            print(fizzbuzz)\n",
        "\n",
        "fizz_buzz(start,end)\n",
        "\n"
      ],
      "metadata": {
        "colab": {
          "base_uri": "https://localhost:8080/"
        },
        "id": "BAiR5vQ2HA15",
        "outputId": "1cc4665d-bc4f-4697-b0d0-97a556924695"
      },
      "execution_count": null,
      "outputs": [
        {
          "output_type": "stream",
          "name": "stdout",
          "text": [
            "Enter the start number: 1\n",
            "Enter the end number: 10\n",
            "1\n",
            "Fizz\n",
            "3\n",
            "Fizz\n",
            "Buzz\n",
            "Fizz\n",
            "7\n",
            "Fizz\n",
            "9\n",
            "FizzBuzz\n"
          ]
        }
      ]
    },
    {
      "cell_type": "code",
      "source": [
        "nums=[2, 3, 8, 4, 7, 9, 8, 2, 6, 5, 1, 6, 1, 2, 3, 2, 4, 6, 9, 1, 2]\n",
        "def most_frequent(nums):\n",
        "    return max(set(nums), key=nums.count)\n",
        "print(most_frequent(nums))"
      ],
      "metadata": {
        "colab": {
          "base_uri": "https://localhost:8080/"
        },
        "id": "eNmYFbxVJSYr",
        "outputId": "6dbf60d7-19e1-4674-ccdf-1bdb6bf38790"
      },
      "execution_count": null,
      "outputs": [
        {
          "output_type": "stream",
          "name": "stdout",
          "text": [
            "2\n"
          ]
        }
      ]
    },
    {
      "cell_type": "code",
      "source": [
        "print(\"enter the numbers\")\n",
        "lst = [int(x) for x in input().split(',')]\n",
        "print(lst)\n",
        "\n",
        "def sum(lst):\n",
        "    # Initialize a variable 'total' to store the sum of numbers, starting at 0\n",
        "    total = 0\n",
        "\n",
        "    # Iterate through each element 'x' in the 'numbers' list\n",
        "    for x in lst:\n",
        "        # Add the current element 'x' to the 'total'\n",
        "        total += x * x\n",
        "\n",
        "    # Return the final sum stored in the 'total' variable\n",
        "    return total\n",
        "\n",
        "# Print the result of calling the 'sum' function with a tuple of numbers (8, 2, 3, 0, 7)\n",
        "print(sum(lst))"
      ],
      "metadata": {
        "colab": {
          "base_uri": "https://localhost:8080/"
        },
        "id": "IgObK5ncOu2q",
        "outputId": "cf23d108-b7bf-497a-e97e-cc3d4a71fbd2"
      },
      "execution_count": null,
      "outputs": [
        {
          "output_type": "stream",
          "name": "stdout",
          "text": [
            "enter the numbers\n",
            "1,2,3,4,5\n",
            "[1, 2, 3, 4, 5]\n",
            "55\n"
          ]
        }
      ]
    },
    {
      "cell_type": "code",
      "source": [
        "#lst=[]\n",
        "#for i in range (0, 4):\n",
        "#    x = input(\"Enter the number : \").split(',')\n",
        "#    lst.append(x)\n",
        "#print(lst)"
      ],
      "metadata": {
        "colab": {
          "base_uri": "https://localhost:8080/"
        },
        "id": "nL5x8gX9UFlg",
        "outputId": "00f53b28-2499-4b1d-ec73-ca1c63a55493"
      },
      "execution_count": null,
      "outputs": [
        {
          "output_type": "stream",
          "name": "stdout",
          "text": [
            "Enter the number : 1,2,3\n",
            "Enter the number : 4,5,6\n",
            "Enter the number : 7,8,9\n",
            "Enter the number : 0,5,4\n",
            "[['1', '2', '3'], ['4', '5', '6'], ['7', '8', '9'], ['0', '5', '4']]\n"
          ]
        }
      ]
    },
    {
      "cell_type": "code",
      "source": [
        "for i in range(1,16):\n",
        "    print(i)\n",
        "    if i%2==0:\n",
        "        print(\"even\")\n",
        "    else:\n",
        "        print(\"odd\")\n",
        "    print()\n"
      ],
      "metadata": {
        "colab": {
          "base_uri": "https://localhost:8080/"
        },
        "id": "W18LXgQeVZ59",
        "outputId": "c64ba983-723e-4f0b-c226-7242f6088735"
      },
      "execution_count": null,
      "outputs": [
        {
          "output_type": "stream",
          "name": "stdout",
          "text": [
            "1\n",
            "odd\n",
            "\n",
            "2\n",
            "even\n",
            "\n",
            "3\n",
            "odd\n",
            "\n",
            "4\n",
            "even\n",
            "\n",
            "5\n",
            "odd\n",
            "\n",
            "6\n",
            "even\n",
            "\n",
            "7\n",
            "odd\n",
            "\n",
            "8\n",
            "even\n",
            "\n",
            "9\n",
            "odd\n",
            "\n",
            "10\n",
            "even\n",
            "\n",
            "11\n",
            "odd\n",
            "\n",
            "12\n",
            "even\n",
            "\n",
            "13\n",
            "odd\n",
            "\n",
            "14\n",
            "even\n",
            "\n",
            "15\n",
            "odd\n",
            "\n"
          ]
        }
      ]
    },
    {
      "cell_type": "code",
      "source": [
        "temp = input(\"Input the temperature you like to convert? (e.g., 45F, 102C etc.) : \")\n",
        "\n",
        "# Extract the numerical part of the temperature and convert it to an integer\n",
        "degree = int(temp[:-1])\n",
        "\n",
        "# Extract the convention part of the temperature input (either 'C' or 'F')\n",
        "i_convention = temp[-1]\n",
        "\n",
        "# Check if the input convention is in uppercase 'C' (Celsius)\n",
        "if i_convention.upper() == \"C\":\n",
        "    # Convert the Celsius temperature to Fahrenheit\n",
        "    result = int(round((9 * degree) / 5 + 32))\n",
        "    o_convention = \"Fahrenheit\"  # Set the output convention as Fahrenheit\n",
        "# Check if the input convention is in uppercase 'F' (Fahrenheit)\n",
        "elif i_convention.upper() == \"F\":\n",
        "    # Convert the Fahrenheit temperature to Celsius\n",
        "    result = int(round((degree - 32) * 5 / 9))\n",
        "    o_convention = \"Celsius\"  # Set the output convention as Celsius\n",
        "else:\n",
        "    # If the input convention is neither 'C' nor 'F', print an error message and exit the program\n",
        "    print(\"Input proper convention.\")\n",
        "    quit()\n",
        "\n",
        "# Display the converted temperature in the specified output convention\n",
        "print(\"The temperature in\", o_convention, \"is\", result, \"degrees.\")"
      ],
      "metadata": {
        "colab": {
          "base_uri": "https://localhost:8080/"
        },
        "id": "BKsbILsSWypY",
        "outputId": "0ea8b244-beb5-451c-d18b-b38bee8bd17b"
      },
      "execution_count": null,
      "outputs": [
        {
          "output_type": "stream",
          "name": "stdout",
          "text": [
            "Input the temperature you like to convert? (e.g., 45F, 102C etc.) : 102C\n",
            "The temperature in Fahrenheit is 216 degrees.\n"
          ]
        }
      ]
    },
    {
      "cell_type": "code",
      "source": [
        "def factorial(n):\n",
        " if (n == 0):\n",
        "   return 1\n",
        "   fact=1\n",
        " else:\n",
        "   return n * factorial(n - 1)\n",
        "print()\n",
        "n=int(input(\"Enter positive number 'n': \"))\n",
        "f=factorial(n)\n",
        "print(\"factoial of number\",n,\"is:\",f)"
      ],
      "metadata": {
        "colab": {
          "base_uri": "https://localhost:8080/"
        },
        "id": "uxNaC6lRXJJH",
        "outputId": "d31c3a2f-7992-4f7d-88f0-5bf77ef214de"
      },
      "execution_count": null,
      "outputs": [
        {
          "output_type": "stream",
          "name": "stdout",
          "text": [
            "\n",
            "Enter positive number 'n': 5\n",
            "factoial of number 5 is: 120\n"
          ]
        }
      ]
    }
  ]
}